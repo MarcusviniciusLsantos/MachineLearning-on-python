{
 "cells": [
  {
   "cell_type": "markdown",
   "metadata": {},
   "source": [
    "# Decision Trees on python"
   ]
  },
  {
   "cell_type": "code",
   "execution_count": 22,
   "metadata": {
    "scrolled": true
   },
   "outputs": [
    {
     "name": "stdout",
     "output_type": "stream",
     "text": [
      "BASE RISCO DE CREDITO\n",
      "        historia divida garantias     renda     risco\n",
      "0           ruim   alta   nenhuma      0_15      alto\n",
      "1   desconhecida   alta   nenhuma     15_35      alto\n",
      "2   desconhecida  baixa   nenhuma     15_35  moderado\n",
      "3   desconhecida  baixa   nenhuma  acima_35      alto\n",
      "4   desconhecida  baixa   nenhuma  acima_35     baixo\n",
      "5   desconhecida  baixa  adequada  acima_35     baixo\n",
      "6           ruim  baixa   nenhuma      0_15      alto\n",
      "7           ruim  baixa  adequada  acima_35  moderado\n",
      "8            boa  baixa   nenhuma  acima_35     baixo\n",
      "9            boa   alta  adequada  acima_35     baixo\n",
      "10           boa   alta   nenhuma      0_15      alto\n",
      "11           boa   alta   nenhuma     15_35  moderado\n",
      "12           boa   alta   nenhuma  acima_35     baixo\n",
      "13          ruim   alta   nenhuma     15_35      alto\n"
     ]
    }
   ],
   "source": [
    "import pandas as pd\n",
    "\n",
    "base = pd.read_csv('risco-credito.csv')\n",
    "previsores = base.iloc[:,0:4].values\n",
    "classe = base.iloc[:,4].values\n",
    "print('BASE RISCO DE CREDITO')\n",
    "print(base)"
   ]
  },
  {
   "cell_type": "code",
   "execution_count": 23,
   "metadata": {},
   "outputs": [
    {
     "name": "stdout",
     "output_type": "stream",
     "text": [
      "-------------------------------------------------------------------------------------------------\n",
      " HISTORIAS  /  DIVIDAS  /  GARANTIAS  /  RENDA \n",
      "[[2 0 1 0]\n",
      " [1 0 1 1]\n",
      " [1 1 1 1]\n",
      " [1 1 1 2]\n",
      " [1 1 1 2]\n",
      " [1 1 0 2]\n",
      " [2 1 1 0]\n",
      " [2 1 0 2]\n",
      " [0 1 1 2]\n",
      " [0 0 0 2]\n",
      " [0 0 1 0]\n",
      " [0 0 1 1]\n",
      " [0 0 1 2]\n",
      " [2 0 1 1]]\n"
     ]
    }
   ],
   "source": [
    "from sklearn.preprocessing import LabelEncoder\n",
    "labelencoder = LabelEncoder()\n",
    "previsores[:,0] = labelencoder.fit_transform(previsores[:,0])\n",
    "previsores[:,1] = labelencoder.fit_transform(previsores[:,1])\n",
    "previsores[:,2] = labelencoder.fit_transform(previsores[:,2])\n",
    "previsores[:,3] = labelencoder.fit_transform(previsores[:,3])\n",
    "print('-------------------------------------------------------------------------------------------------')\n",
    "print(' HISTORIAS  /  DIVIDAS  /  GARANTIAS  /  RENDA ')\n",
    "print(previsores)"
   ]
  },
  {
   "cell_type": "code",
   "execution_count": 15,
   "metadata": {},
   "outputs": [],
   "source": []
  },
  {
   "cell_type": "code",
   "execution_count": 24,
   "metadata": {},
   "outputs": [
    {
     "data": {
      "text/plain": [
       "DecisionTreeClassifier(class_weight=None, criterion='entropy', max_depth=None,\n",
       "                       max_features=None, max_leaf_nodes=None,\n",
       "                       min_impurity_decrease=0.0, min_impurity_split=None,\n",
       "                       min_samples_leaf=1, min_samples_split=2,\n",
       "                       min_weight_fraction_leaf=0.0, presort=False,\n",
       "                       random_state=None, splitter='best')"
      ]
     },
     "execution_count": 24,
     "metadata": {},
     "output_type": "execute_result"
    }
   ],
   "source": [
    "from sklearn.tree import DecisionTreeClassifier, export\n",
    "classificador = DecisionTreeClassifier(criterion='entropy')\n",
    "#gera arvore de decisao,calculo de entropia,ganho de informação\n",
    "classificador.fit(previsores, classe)"
   ]
  },
  {
   "cell_type": "code",
   "execution_count": 25,
   "metadata": {},
   "outputs": [
    {
     "name": "stdout",
     "output_type": "stream",
     "text": [
      "-------------------------------------------------------------------------------------------------\n",
      "HISTORIAS  /  DIVIDAS  /  GARANTIAS  /  RENDA  \n",
      "[0.48015651 0.06408636 0.03885431 0.41690281]\n"
     ]
    }
   ],
   "source": [
    "print('-------------------------------------------------------------------------------------------------')\n",
    "print('HISTORIAS  /  DIVIDAS  /  GARANTIAS  /  RENDA  ')\n",
    "print(classificador.feature_importances_)"
   ]
  },
  {
   "cell_type": "code",
   "execution_count": 26,
   "metadata": {},
   "outputs": [
    {
     "name": "stdout",
     "output_type": "stream",
     "text": [
      "n_classes:  3\n",
      "classes:  ['alto' 'baixo' 'moderado']\n",
      "n_features:  4\n",
      "n_outputs:  1\n"
     ]
    }
   ],
   "source": [
    "print('n_classes: ', classificador.n_classes_)\n",
    "print('classes: ',classificador.classes_)\n",
    "print('n_features: ', classificador.n_features_)\n",
    "print('n_outputs: ', classificador.n_outputs_)\n"
   ]
  },
  {
   "cell_type": "code",
   "execution_count": 9,
   "metadata": {},
   "outputs": [
    {
     "name": "stdout",
     "output_type": "stream",
     "text": [
      "Programa arvore de decisão com aprendizagem --\n",
      "HISTÓRIA DE CRÉDITO| 0 = BOA / 1 = DESCONHECIDA / 2 = RUIM\n",
      "DÍVIDAS| 0 = ALTA / 1 = BAIXA\n",
      "GARANTIAS| 0 = ADEQUADA / 1 = NENHUMA\n",
      "RENDA ANUAL| 0 = < 15.000 / 1 = >= 15.000 A <= 35.000 / 2 = >35.000\n",
      "\n",
      "Digite Seu Nome: Marcus\n",
      "\n",
      "HISTORIA DE CRÉDITO: 1\n",
      "\n",
      "DIVIDAS: 1\n",
      "\n",
      "GARANTIAS: 1\n",
      "\n",
      "RENDA: 2\n",
      "\n",
      "Marcus Risco de Crédito = ['alto']\n"
     ]
    }
   ],
   "source": [
    "print('Programa arvore de decisão com aprendizagem --')\n",
    "print('HISTÓRIA DE CRÉDITO| 0 = BOA / 1 = DESCONHECIDA / 2 = RUIM')\n",
    "print('DÍVIDAS| 0 = ALTA / 1 = BAIXA')\n",
    "print('GARANTIAS| 0 = ADEQUADA / 1 = NENHUMA')\n",
    "print('RENDA ANUAL| 0 = < 15.000 / 1 = >= 15.000 A <= 35.000 / 2 = >35.000')\n",
    "\n",
    "print()\n",
    "\n",
    "nome = input('Digite Seu Nome: ')\n",
    "print()\n",
    "\n",
    "nota1 = int(input(\"HISTORIA DE CRÉDITO: \"))\n",
    "print()\n",
    "\n",
    "nota2 = int(input(\"DIVIDAS: \"))\n",
    "print()\n",
    "\n",
    "nota3 = int(input(\"GARANTIAS: \"))\n",
    "print()\n",
    "\n",
    "nota4 = int(input(\"RENDA: \"))\n",
    "print()\n",
    "\n",
    "resultado = classificador.predict([[nota1,nota2,nota3,nota4]])\n",
    "\n",
    "print(nome, 'Risco de Crédito =', resultado)"
   ]
  }
 ],
 "metadata": {
  "kernelspec": {
   "display_name": "Python 3",
   "language": "python",
   "name": "python3"
  },
  "language_info": {
   "codemirror_mode": {
    "name": "ipython",
    "version": 3
   },
   "file_extension": ".py",
   "mimetype": "text/x-python",
   "name": "python",
   "nbconvert_exporter": "python",
   "pygments_lexer": "ipython3",
   "version": "3.7.3"
  }
 },
 "nbformat": 4,
 "nbformat_minor": 2
}
